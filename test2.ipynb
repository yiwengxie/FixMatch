{
 "cells": [
  {
   "cell_type": "code",
   "execution_count": 1,
   "metadata": {},
   "outputs": [],
   "source": [
    "import math\n",
    "import argparse\n",
    "import numpy as np\n",
    "from PIL import Image\n",
    "from torchvision import datasets\n",
    "from torchvision import transforms\n",
    "\n",
    "cifar10_mean = (0.4914, 0.4822, 0.4465)\n",
    "cifar10_std = (0.2471, 0.2435, 0.2616)\n",
    "cifar100_mean = (0.5071, 0.4867, 0.4408)\n",
    "cifar100_std = (0.2675, 0.2565, 0.2761)\n",
    "normal_mean = (0.5, 0.5, 0.5)\n",
    "normal_std = (0.5, 0.5, 0.5)"
   ]
  },
  {
   "cell_type": "code",
   "execution_count": 2,
   "metadata": {},
   "outputs": [],
   "source": [
    "def get_config():\n",
    "    parser = argparse.ArgumentParser(description='PyTorch FixMatch Training')\n",
    "    parser.add_argument('--gpu-id', default='0', type=int, help='id(s) for CUDA_VISIBLE_DEVICES')\n",
    "    parser.add_argument('--num-workers', type=int, default=4, help='number of workers')\n",
    "    parser.add_argument('--dataset', default='cifar10', type=str, choices=['cifar10', 'cifar100'], help='dataset name')\n",
    "    parser.add_argument('--num-labeled', type=int, default=4000, help='number of labeled data')\n",
    "    parser.add_argument(\"--expand-labels\", action=\"store_true\", help=\"expand labels to fit eval steps\")\n",
    "    parser.add_argument('--arch', default='wideresnet', type=str, choices=['wideresnet', 'resnext'], help='dataset name')\n",
    "    parser.add_argument('--total-steps', default=1000, type=int, help='number of total steps to run')\n",
    "    parser.add_argument('--eval-step', default=1024, type=int, help='number of eval steps to run')\n",
    "    parser.add_argument('--start-epoch', default=0, type=int, help='manual epoch number (useful on restarts)')\n",
    "    parser.add_argument('--batch-size', default=64, type=int, help='train batchsize')\n",
    "    parser.add_argument('--lr', '--learning-rate', default=0.03, type=float, help='initial learning rate')\n",
    "    parser.add_argument('--warmup', default=0, type=float, help='warmup epochs (unlabeled data based)')\n",
    "    parser.add_argument('--wdecay', default=5e-4, type=float, help='weight decay')\n",
    "    parser.add_argument('--nesterov', action='store_true', default=True, help='use nesterov momentum')\n",
    "    parser.add_argument('--use-ema', action='store_true', default=True, help='use EMA model')\n",
    "    parser.add_argument('--ema-decay', default=0.999, type=float, help='EMA decay rate')\n",
    "    parser.add_argument('--mu', default=7, type=int, help='coefficient of unlabeled batch size')\n",
    "    parser.add_argument('--lambda-u', default=1, type=float, help='coefficient of unlabeled loss')\n",
    "    parser.add_argument('--T', default=1, type=float, help='pseudo label temperature')\n",
    "    parser.add_argument('--threshold', default=0.95, type=float, help='pseudo label threshold')\n",
    "    parser.add_argument('--out', default='results', help='directory to output the result')\n",
    "    parser.add_argument('--resume', default='', type=str, help='path to latest checkpoint (default: none)')\n",
    "    parser.add_argument('--seed', default=None, type=int, help=\"random seed\")\n",
    "    parser.add_argument(\"--amp\", action=\"store_true\", help=\"use 16-bit (mixed) precision through NVIDIA apex AMP\")\n",
    "    parser.add_argument(\"--opt_level\", type=str, default=\"O1\", help=\"apex AMP optimization level selected in ['O0', 'O1', 'O2', and 'O3'].\" \"See details at https://nvidia.github.io/apex/amp.html\")\n",
    "    parser.add_argument(\"--local_rank\", type=int, default=-1, help=\"For distributed training: local_rank\")\n",
    "    parser.add_argument('--no-progress', action='store_true', help=\"don't use progress bar\")\n",
    "    args = parser.parse_args()\n",
    "    return  args"
   ]
  },
  {
   "cell_type": "code",
   "execution_count": 3,
   "metadata": {},
   "outputs": [],
   "source": [
    "\n",
    "\n",
    "def x_u_split(args, labels):\n",
    "    label_per_class = args[\"num_labeled\"] // args[\"num_classes\"]\n",
    "    labels = np.array(labels)\n",
    "    labeled_idx = []\n",
    "    # unlabeled data: all data (https://github.com/kekmodel/FixMatch-pytorch/issues/10)\n",
    "    unlabeled_idx = np.array(range(len(labels)))\n",
    "    for i in range(args[\"num_classes\"]):\n",
    "        idx = np.where(labels == i)[0]\n",
    "        idx = np.random.choice(idx, label_per_class, False)\n",
    "        labeled_idx.extend(idx)\n",
    "    labeled_idx = np.array(labeled_idx)\n",
    "    assert len(labeled_idx) == args[\"num_labeled\"] \n",
    "\n",
    "    if args[\"num_labeled\"]  < args[\"batch_size\"]:\n",
    "        num_expand_x = math.ceil(\n",
    "            args[\"batch_size\"] * args[\"eval_step\"] / args[\"num_labeled\"] )\n",
    "        labeled_idx = np.hstack([labeled_idx for _ in range(num_expand_x)])\n",
    "    np.random.shuffle(labeled_idx)\n",
    "    return labeled_idx, unlabeled_idx\n",
    "\n"
   ]
  },
  {
   "cell_type": "code",
   "execution_count": 4,
   "metadata": {},
   "outputs": [],
   "source": [
    "from datasets import load_dataset\n",
    "\n",
    "root = './data'"
   ]
  },
  {
   "cell_type": "code",
   "execution_count": 5,
   "metadata": {},
   "outputs": [],
   "source": [
    "args = {'num_labeled': 4000, 'num_classes': 10, 'batch_size': 64, 'eval_step': 1024, 'local_rank': -1, 'num_workers': 4}"
   ]
  },
  {
   "cell_type": "code",
   "execution_count": 6,
   "metadata": {},
   "outputs": [],
   "source": [
    "class CIFAR10SSL(datasets.CIFAR10):\n",
    "    def __init__(self, root, indexs, train=True,\n",
    "                 transform=None, target_transform=None,\n",
    "                 download=False):\n",
    "        super().__init__(root, train=train,\n",
    "                         transform=transform,\n",
    "                         target_transform=target_transform,\n",
    "                         download=download)\n",
    "        if indexs is not None:\n",
    "            self.data = self.data[indexs]\n",
    "            self.targets = np.array(self.targets)[indexs]\n",
    "\n",
    "    def __getitem__(self, index):\n",
    "        img, target = self.data[index], self.targets[index]\n",
    "        img = Image.fromarray(img)\n",
    "\n",
    "        if self.transform is not None:\n",
    "            img = self.transform(img)\n",
    "\n",
    "        if self.target_transform is not None:\n",
    "            target = self.target_transform(target)\n",
    "\n",
    "        return img, target"
   ]
  },
  {
   "cell_type": "code",
   "execution_count": 7,
   "metadata": {},
   "outputs": [],
   "source": [
    "from dataset.randaugment import RandAugmentMC\n",
    "\n",
    "class TransformFixMatch(object):\n",
    "    def __init__(self, mean, std):\n",
    "        self.weak = transforms.Compose([\n",
    "            transforms.RandomHorizontalFlip(),\n",
    "            transforms.RandomCrop(size=32,\n",
    "                                  padding=int(32*0.125),\n",
    "                                  padding_mode='reflect')])\n",
    "        self.strong = transforms.Compose([\n",
    "            transforms.RandomHorizontalFlip(),\n",
    "            transforms.RandomCrop(size=32,\n",
    "                                  padding=int(32*0.125),\n",
    "                                  padding_mode='reflect'),\n",
    "            RandAugmentMC(n=2, m=10)])\n",
    "        self.normalize = transforms.Compose([\n",
    "            transforms.ToTensor(),\n",
    "            transforms.Normalize(mean=mean, std=std)])\n",
    "\n",
    "    def __call__(self, x):\n",
    "        weak = self.weak(x)\n",
    "        strong = self.strong(x)\n",
    "        return self.normalize(weak), self.normalize(strong)"
   ]
  },
  {
   "cell_type": "code",
   "execution_count": 8,
   "metadata": {},
   "outputs": [],
   "source": [
    "def get_cifar10(args, root):\n",
    "    transform_labeled = transforms.Compose([\n",
    "        # transforms.RandomHorizontalFlip(),\n",
    "        # transforms.RandomCrop(size=32,\n",
    "        #                       padding=int(32*0.125),\n",
    "        #                       padding_mode='reflect'),\n",
    "        transforms.ToTensor(),\n",
    "        transforms.Normalize(mean=cifar10_mean, std=cifar10_std)\n",
    "    ])\n",
    "    transform_val = transforms.Compose([\n",
    "        transforms.ToTensor(),\n",
    "        transforms.Normalize(mean=cifar10_mean, std=cifar10_std)\n",
    "    ])\n",
    "    base_dataset = datasets.CIFAR10(root, train=True, download=True)\n",
    "\n",
    "    train_labeled_idxs, train_unlabeled_idxs = x_u_split(\n",
    "        args, base_dataset.targets)\n",
    "\n",
    "    train_labeled_dataset = CIFAR10SSL(\n",
    "        root, train_labeled_idxs, train=True,\n",
    "        transform=transform_labeled)\n",
    "\n",
    "    train_unlabeled_dataset = CIFAR10SSL(\n",
    "        root, train_unlabeled_idxs, train=True,\n",
    "        transform=TransformFixMatch(mean=cifar10_mean, std=cifar10_std))\n",
    "\n",
    "    test_dataset = datasets.CIFAR10(\n",
    "        root, train=False, transform=transform_val, download=False)\n",
    "\n",
    "    return train_labeled_dataset, train_unlabeled_dataset, test_dataset"
   ]
  },
  {
   "cell_type": "code",
   "execution_count": 9,
   "metadata": {},
   "outputs": [
    {
     "name": "stdout",
     "output_type": "stream",
     "text": [
      "Files already downloaded and verified\n"
     ]
    },
    {
     "data": {
      "text/plain": [
       "(tensor([[[ 0.5189,  0.5347,  0.6299,  ...,  0.1856,  0.0110, -0.1477],\n",
       "          [ 0.4236,  0.4078,  0.5347,  ...,  0.1697, -0.0049, -0.1001],\n",
       "          [ 0.4078,  0.4078,  0.5189,  ...,  0.2173,  0.0745, -0.0842],\n",
       "          ...,\n",
       "          [-0.9095, -1.3221, -1.4967,  ..., -1.3856, -1.7824, -1.3539],\n",
       "          [-1.0206, -1.2110, -1.4332,  ..., -1.5760, -1.5284, -1.6713],\n",
       "          [-1.1317, -1.0999, -1.2745,  ..., -1.6078, -1.4491, -1.6554]],\n",
       " \n",
       "         [[-0.1765, -0.1926, -0.1121,  ..., -0.4503, -0.5147, -0.6114],\n",
       "          [-0.1765, -0.2087, -0.1443,  ..., -0.4503, -0.5147, -0.5630],\n",
       "          [-0.2087, -0.2248, -0.1926,  ..., -0.4020, -0.4503, -0.5469],\n",
       "          ...,\n",
       "          [ 0.0167, -0.3698, -0.5630,  ..., -0.4181, -0.9496, -0.6114],\n",
       "          [-0.1121, -0.3376, -0.6114,  ..., -0.6597, -0.6597, -0.9496],\n",
       "          [-0.2571, -0.2893, -0.5469,  ..., -0.7402, -0.6275, -0.9013]],\n",
       " \n",
       "         [[-0.9723, -1.0022, -0.9423,  ..., -1.1671, -1.1671, -1.2121],\n",
       "          [-0.9423, -1.1072, -1.0322,  ..., -1.2421, -1.2271, -1.1971],\n",
       "          [-1.0022, -1.2121, -1.1671,  ..., -1.1971, -1.1971, -1.2121],\n",
       "          ...,\n",
       "          [ 0.9466,  0.5118,  0.3469,  ...,  0.4818, -0.0878,  0.1970],\n",
       "          [ 0.8116,  0.5118,  0.2720,  ...,  0.2420,  0.1820, -0.1028],\n",
       "          [ 0.6917,  0.5268,  0.2720,  ...,  0.1520,  0.2270, -0.0578]]]),\n",
       " 3)"
      ]
     },
     "execution_count": 9,
     "metadata": {},
     "output_type": "execute_result"
    }
   ],
   "source": [
    "train_labeled_dataset, train_unlabeled_dataset, test_dataset = get_cifar10(args, root)\n",
    "test_dataset[0]"
   ]
  },
  {
   "cell_type": "code",
   "execution_count": 10,
   "metadata": {},
   "outputs": [
    {
     "name": "stderr",
     "output_type": "stream",
     "text": [
      "Clipping input data to the valid range for imshow with RGB data ([0..1] for floats or [0..255] for integers).\n"
     ]
    },
    {
     "data": {
      "image/png": "[encoded data removed]",
      "text/plain": [
       "<Figure size 640x480 with 1 Axes>"
      ]
     },
     "metadata": {},
     "output_type": "display_data"
    }
   ],
   "source": [
    "import matplotlib.pyplot as plt\n",
    "import torch\n",
    "\n",
    "# 给定的张量和标签\n",
    "tensor_data, label = test_dataset[2]\n",
    "\n",
    "# 将张量数据从[-1, 1]范围转换到[0, 1]范围\n",
    "tensor_data = (tensor_data + 1) / 2\n",
    "\n",
    "\n",
    "# 将tensor转换为numpy数组，并交换通道以适应matplotlib的格式\n",
    "image_data = tensor_data.permute(1, 2, 0).numpy()\n",
    "\n",
    "# 显示图像\n",
    "plt.imshow(image_data)\n",
    "plt.title(f\"Label: {label}\")\n",
    "plt.axis('off')  # 关闭坐标轴\n",
    "plt.show()\n"
   ]
  },
  {
   "cell_type": "code",
   "execution_count": 11,
   "metadata": {},
   "outputs": [],
   "source": [
    "import torch\n",
    "from torch.utils.data import DataLoader, RandomSampler, SequentialSampler\n",
    "\n",
    "def create_data_loaders(args, labeled_dataset, unlabeled_dataset, test_dataset):\n",
    "    train_sampler = RandomSampler if args[\"local_rank\"] == -1 else DistributedSampler\n",
    "\n",
    "    labeled_trainloader = DataLoader(\n",
    "        labeled_dataset,\n",
    "        sampler=train_sampler(labeled_dataset),\n",
    "        batch_size=args['batch_size'],\n",
    "        num_workers=args['num_workers'],\n",
    "        drop_last=True)\n",
    "\n",
    "    unlabeled_trainloader = DataLoader(\n",
    "        unlabeled_dataset,\n",
    "        sampler=train_sampler(unlabeled_dataset),\n",
    "        batch_size=args['batch_size']*7,\n",
    "        num_workers=args['num_workers'],\n",
    "        drop_last=True)\n",
    "\n",
    "    test_loader = DataLoader(\n",
    "        test_dataset,\n",
    "        sampler=SequentialSampler(test_dataset),\n",
    "        batch_size=args['batch_size'],\n",
    "        num_workers=args['num_workers'])\n",
    "\n",
    "    return labeled_trainloader, unlabeled_trainloader, test_loader"
   ]
  },
  {
   "cell_type": "code",
   "execution_count": 12,
   "metadata": {},
   "outputs": [],
   "source": [
    "labeled_trainloader, unlabeled_trainloader, test_loader = create_data_loaders(args, train_labeled_dataset, train_unlabeled_dataset, test_dataset)"
   ]
  }
 ],
 "metadata": {
  "kernelspec": {
   "display_name": "base",
   "language": "python",
   "name": "python3"
  },
  "language_info": {
   "codemirror_mode": {
    "name": "ipython",
    "version": 3
   },
   "file_extension": ".py",
   "mimetype": "text/x-python",
   "name": "python",
   "nbconvert_exporter": "python",
   "pygments_lexer": "ipython3",
   "version": "3.11.8"
  }
 },
 "nbformat": 4,
 "nbformat_minor": 2
}
